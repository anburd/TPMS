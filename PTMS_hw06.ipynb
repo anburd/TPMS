{
 "cells": [
  {
   "cell_type": "markdown",
   "id": "convenient-crash",
   "metadata": {},
   "source": [
    "**Задача 1.**\n",
    "*Известно, что генеральная совокупность распределена нормально, со средним квадратическим отклонением, $\\displaystyle\\sigma=16$. Найти доверительный интервал для оценки математического ожидания с надежностью 0.95, если выборочная средняя M=80, а объем выборки n=256*"
   ]
  },
  {
   "cell_type": "markdown",
   "id": "hired-labor",
   "metadata": {},
   "source": [
    "Поскольку нам известно среднее квадратическое отклонение генеральной совокупности $\\sigma=16$, то для расчета $95\\%$-го доверительного интервала, будем использовать Z-критерий. Табличное значение Z-критерия, и для $95\\%$-го доверительного интервала $z_{\\alpha/2}=1,96$   (много раз уже смотрели на лекции))\n",
    "\n",
    "95\\%-й доверительный интервал расчитаем как: "
   ]
  },
  {
   "cell_type": "code",
   "execution_count": 1,
   "id": "superb-functionality",
   "metadata": {},
   "outputs": [
    {
     "name": "stdout",
     "output_type": "stream",
     "text": [
      "[78.04;81.96]\n"
     ]
    }
   ],
   "source": [
    "left=80-1.96*16/256**(1/2)\n",
    "right=80+1.96*16/256**(1/2)\n",
    "print(f'[{left};{right}]')"
   ]
  },
  {
   "cell_type": "markdown",
   "id": "heated-bosnia",
   "metadata": {},
   "source": [
    "**Ответ:**\n",
    "\n",
    "Доверительный интервал для оценки математического ожидания с надежностью 0.95 равен   $\\left[78.04;81.96\\right]$  \n",
    "\n",
    "---"
   ]
  },
  {
   "cell_type": "markdown",
   "id": "normal-familiar",
   "metadata": {},
   "source": [
    "**Задача 2.**\n",
    "*В результате 10 независимых измерений некоторой величины X, выполненных с одинаковой точностью, получены опытные данные: 6.9, 6.1, 6.2, 6.8, 7.5, 6.3, 6.4, 6.9, 6.7, 6.1 Предполагая, что результаты измерений подчинены нормальному закону распределения вероятностей, оценить истинное значение величины X при помощи доверительного интервала, покрывающего это значение с доверительной вероятностью 0,95.*"
   ]
  },
  {
   "cell_type": "code",
   "execution_count": 2,
   "id": "muslim-commission",
   "metadata": {},
   "outputs": [],
   "source": [
    "import numpy as np\n",
    "import scipy.stats as stats"
   ]
  },
  {
   "cell_type": "markdown",
   "id": "damaged-insurance",
   "metadata": {},
   "source": [
    "Поскольку из условия задачи нам ничего не известно ни о мат. ожидании генеральной совокупности ни о среднем квадратическом отклонении для генеральной совокупности, то для расчета $95\\%$-го доверительного интервала будем использовать $t$-критерий,  и формулу:  \n",
    "$\\displaystyle\\bar X\\pm t_{\\alpha/2}\\cdot\\frac{\\sigma_{несмещ}}{\\sqrt{n}}$"
   ]
  },
  {
   "cell_type": "code",
   "execution_count": 3,
   "id": "julian-eleven",
   "metadata": {},
   "outputs": [
    {
     "name": "stdout",
     "output_type": "stream",
     "text": [
      "Среднее выборочное:  6.59,\n",
      "Размер выборки n=10,\n",
      "Среднее квадратическое отклонение по выборке(несмещенное):  0.45.\n"
     ]
    }
   ],
   "source": [
    "arr=np.array([6.9, 6.1, 6.2, 6.8, 7.5, 6.3, 6.4, 6.9, 6.7, 6.1])\n",
    "print(f'Среднее выборочное: {np.mean(arr): .2f},\\n'\n",
    "      f'Размер выборки n={len(arr)},\\n'\n",
    "      f'Среднее квадратическое отклонение по выборке(несмещенное): {np.std(arr, ddof=1): .2f}.'\n",
    "     )"
   ]
  },
  {
   "cell_type": "code",
   "execution_count": 4,
   "id": "classified-reporter",
   "metadata": {
    "scrolled": true
   },
   "outputs": [
    {
     "name": "stdout",
     "output_type": "stream",
     "text": [
      "Таб.значение t-критерия для 95%-го доверительного интервала выборки:  2.262\n"
     ]
    }
   ],
   "source": [
    "def t_from_table(confidens, len_array):\n",
    "    alpha=(1-confidens)\n",
    "    return stats.t.ppf(1-alpha/2, len_array-1)\n",
    "print(f'Таб.значение t-критерия для 95%-го доверительного интервала выборки: {t_from_table(0.95, len(arr)): .3f}')"
   ]
  },
  {
   "cell_type": "code",
   "execution_count": 5,
   "id": "treated-humidity",
   "metadata": {},
   "outputs": [
    {
     "data": {
      "text/plain": [
       "(6.268, 6.912)"
      ]
     },
     "execution_count": 5,
     "metadata": {},
     "output_type": "execute_result"
    }
   ],
   "source": [
    "def confidens_int(arr, confidens):\n",
    "    return round(np.mean(arr)-t_from_table(confidens,len(arr))*np.std(arr, ddof=1)/len(arr)**0.5,3), \\\n",
    "           round(np.mean(arr)+t_from_table(confidens,len(arr))*np.std(arr, ddof=1)/len(arr)**0.5,3)\n",
    "\n",
    "confidens_int(arr, 0.95)"
   ]
  },
  {
   "cell_type": "markdown",
   "id": "current-moore",
   "metadata": {},
   "source": [
    "**Ответ:**\n",
    "\n",
    "Доверительный интервал для истинного значения Х с доверительной вероятностью 0,95 равен $\\left[6.268; 6.912\\right]$  \n",
    "\n",
    "---"
   ]
  },
  {
   "cell_type": "markdown",
   "id": "66363ef3",
   "metadata": {},
   "source": [
    "**Задача 3.**\n",
    "*Рост дочерей 175, 167, 154, 174, 178, 148, 160, 167, 169, 170 Рост матерей 178, 165, 165, 173, 168, 155, 160, 164, 178, 175\n",
    "Используя эти данные построить 95% доверительный интервал для разности среднего роста родителей и детей.*"
   ]
  },
  {
   "cell_type": "code",
   "execution_count": 16,
   "id": "5ec1ca85",
   "metadata": {},
   "outputs": [
    {
     "data": {
      "text/plain": [
       "(-6.268418034506846, 10.068418034506857)"
      ]
     },
     "execution_count": 16,
     "metadata": {},
     "output_type": "execute_result"
    }
   ],
   "source": [
    "daughters = np.array([175, 167, 154, 174, 178, 148, 160, 167, 169, 170])\n",
    "mothers = np.array([178, 165, 165, 173, 168, 155, 160, 164, 178, 175])\n",
    "\n",
    "mean_diff = np.mean(mothers) - np.mean(daughters)\n",
    "std = np.sqrt((np.std(mothers) ** 2) / len(mothers) + (np.std(daughters) ** 2) / len(daughters))\n",
    "\n",
    "d1 = np.var(mothers, ddof=1) \n",
    "d2 = np.var(daughters, ddof=1) \n",
    "\n",
    "d = (d1 + d2)/2 #\n",
    "SE= np.sqrt (d/10+d/10) \n",
    "\n",
    "t = stats.t.ppf(0.975, 18) \n",
    "\n",
    "\n",
    "c_interval = (mean_diff -  t * SE, mean_diff +  t * SE)\n",
    "c_interval"
   ]
  },
  {
   "cell_type": "markdown",
   "id": "d7463add",
   "metadata": {},
   "source": [
    "**Ответ**\n",
    "\n",
    "95% доверительный интервал разности среднего роста родителей и детей: $\\left[-6.268; 10.068\\right]$ "
   ]
  },
  {
   "cell_type": "code",
   "execution_count": null,
   "id": "2475a487",
   "metadata": {},
   "outputs": [],
   "source": []
  }
 ],
 "metadata": {
  "kernelspec": {
   "display_name": "Python 3 (ipykernel)",
   "language": "python",
   "name": "python3"
  },
  "language_info": {
   "codemirror_mode": {
    "name": "ipython",
    "version": 3
   },
   "file_extension": ".py",
   "mimetype": "text/x-python",
   "name": "python",
   "nbconvert_exporter": "python",
   "pygments_lexer": "ipython3",
   "version": "3.9.13"
  }
 },
 "nbformat": 4,
 "nbformat_minor": 5
}
