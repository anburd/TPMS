{
 "cells": [
  {
   "cell_type": "markdown",
   "id": "fe080320",
   "metadata": {},
   "source": [
    "ДЗ\n",
    "\n",
    "**Задача 1:**\n",
    "\n",
    "*Из колоды в 52 карты извлекаются случайным образом 4 карты. a) Найти вероятность того, что все карты – крести. б) Найти вероятность, что среди 4-х карт окажется хотя бы один туз*"
   ]
  },
  {
   "cell_type": "markdown",
   "id": "7abaab05",
   "metadata": {},
   "source": [
    "a) в колоде 52 карты, из них одной масти 52/4=13 шт. Для формулы\n",
    "$\\displaystyle P(A)=\\frac{m}{n}$ где m-число благоприятных исходов, n-общее число всех исходов.  \n",
    "у нас будет  $\\displaystyle n=C^4_{52}$-т.е. количество способов извлечь 4 карты из 52, а $\\displaystyle m=C^4_{13}$, способов извлечь 4 карты одной масти.  \n",
    "n и m рассчитываем по формуле:\n",
    "$\\displaystyle C^k_n=\\frac{n!}{k!(n-k)!}$  "
   ]
  },
  {
   "cell_type": "code",
   "execution_count": 1,
   "id": "031e7639",
   "metadata": {},
   "outputs": [
    {
     "name": "stdout",
     "output_type": "stream",
     "text": [
      "количество способов извлечь 4 карты из 52 равно 270725\n",
      "количество способов извлечь 4 карты одной масти равно 715\n",
      "вероятность 0.0026410564225690276\n"
     ]
    }
   ],
   "source": [
    "from math import factorial\n",
    "n = int(factorial(52) / (factorial(4) * factorial(52 - 4))) \n",
    "print (f'количество способов извлечь 4 карты из 52 равно {n}')\n",
    "m = int(factorial(13) / (factorial(4) * factorial(13 - 4))) \n",
    "print (f'количество способов извлечь 4 карты одной масти равно {m}')\n",
    "p = m/n\n",
    "print (f'вероятность {p}')"
   ]
  },
  {
   "cell_type": "markdown",
   "id": "b6bd49c8",
   "metadata": {},
   "source": [
    "б) \n",
    "Используем то, что сумма вероятностей противоположных событий равна $1$, т.е.  \n",
    "$\\displaystyle P(A)+P(\\bar{A})=1$,  \n",
    "где $\\bar{A}$-событие, когда из 4-х карт не оказалось ни одного туза. \n",
    " \n",
    "\n",
    "Для этого события общее число исходов $\\displaystyle n=C^4_{52}$,  а $\\displaystyle m2=C^4_{48}$ - т.е. количество способов извлечь 4 карты из колоды без тузов (52-4туза=48). Тогда $\\displaystyle P(A)=1-P(\\bar{A})$  \n",
    "\n",
    "\n",
    "$\\displaystyle P(\\bar{A})=\\frac{m2}{n}$ где m2 - число исходов без тузов\n",
    "\n",
    "\n",
    "𝑃(𝐴) обозначим как p2, n считали выше, рассчитаем m2 -"
   ]
  },
  {
   "cell_type": "code",
   "execution_count": 2,
   "id": "7a8fb9fb",
   "metadata": {},
   "outputs": [
    {
     "name": "stdout",
     "output_type": "stream",
     "text": [
      "количество способов извлечь 4 карты из 52 равно 270725\n",
      "количество способов извлечь 4 карты одной масти равно 194580\n"
     ]
    }
   ],
   "source": [
    "print (f'количество способов извлечь 4 карты из 52 равно {n}')\n",
    "m2 = int(factorial(48) / (factorial(4) * factorial(48 - 4))) \n",
    "print (f'количество способов извлечь 4 карты одной масти равно {m2}')"
   ]
  },
  {
   "cell_type": "code",
   "execution_count": 3,
   "id": "cb72a4e1",
   "metadata": {},
   "outputs": [
    {
     "name": "stdout",
     "output_type": "stream",
     "text": [
      "вероятность 0.2812632745405854\n"
     ]
    }
   ],
   "source": [
    "p2 = 1 - m2/n\n",
    "print (f'вероятность {p2}')\n"
   ]
  },
  {
   "cell_type": "markdown",
   "id": "335e9696",
   "metadata": {},
   "source": [
    "**ОТВЕТ**\n",
    "\n",
    "а) вероятность того, что все карты – крести $\\approx 0.0026 \\approx 0.26\\%$\n",
    "\n",
    "б) вероятность, что среди 4-х карт окажется хотя бы один туз $\\approx 0.2813 \\approx 28.13\\%$. "
   ]
  },
  {
   "cell_type": "markdown",
   "id": "4f914e1f",
   "metadata": {},
   "source": [
    "**Задача 2:**\n",
    "\n",
    "*На входной двери подъезда установлен кодовый замок, содержащий десять кнопок с цифрами от 0 до 9. Код содержит три цифры, которые нужно нажать одновременно. Какова вероятность того, что человек, не знающий код, откроет дверь с первой попытки?*\n",
    "\n",
    "\n",
    "для формулы вероятности $\\displaystyle P(A)=\\frac{m}{n}$ общее число исходов будет определяться количеством сочетаний 3-х кнопок из 10, $\\displaystyle n=C^3_{10}$, а количество благоприятных исходов m -замок открылся будет равен 1."
   ]
  },
  {
   "cell_type": "code",
   "execution_count": 4,
   "id": "238517b0",
   "metadata": {},
   "outputs": [
    {
     "name": "stdout",
     "output_type": "stream",
     "text": [
      "вероятность 0.008333333333333333\n"
     ]
    }
   ],
   "source": [
    "n = int(factorial(10) / (factorial(3) * factorial(10 - 3))) \n",
    "p = 1/n\n",
    "print (f'вероятность {p}')"
   ]
  },
  {
   "cell_type": "markdown",
   "id": "8c61f093",
   "metadata": {},
   "source": [
    "**ОТВЕТ**\n",
    "\n",
    "вероятность открыть дверь с первой попытки $\\approx 0.008333 \\approx 0.83\\%$"
   ]
  },
  {
   "cell_type": "markdown",
   "id": "29094dbd",
   "metadata": {},
   "source": [
    "**Задача 3:**\n",
    "\n",
    "*В ящике имеется 15 деталей, из которых 9 окрашены. Рабочий случайным образом извлекает 3 детали. Какова вероятность того, что все извлеченные детали окрашены?*\n",
    "\n",
    "Посчитаем по-другому)\n",
    "\n",
    "Вероятность что первая вытащенная деталь окрашена $\\displaystyle \\frac{9}{15}$\n",
    "\n",
    "вторая(при условии что 1я окрашена) $\\displaystyle \\frac{8}{14}$\n",
    "\n",
    "третья(при условии что 1я и 2я окрашены) $\\displaystyle \\frac{7}{13}$\n",
    "\n",
    "Общая вероятность тогда  $\\displaystyle P(\\text{все 3 из 3-х вытащенных деталей окрашены})=\\frac{9}{15}\\cdot\\frac{8}{14}\\cdot\\frac{7}{13}$"
   ]
  },
  {
   "cell_type": "code",
   "execution_count": 5,
   "id": "0e989ea9",
   "metadata": {},
   "outputs": [
    {
     "name": "stdout",
     "output_type": "stream",
     "text": [
      "P = 0.1846\n"
     ]
    }
   ],
   "source": [
    "print(f'P = {round(9/15*8/14*7/13,4)}')"
   ]
  },
  {
   "cell_type": "code",
   "execution_count": 12,
   "id": "64185683",
   "metadata": {},
   "outputs": [
    {
     "name": "stdout",
     "output_type": "stream",
     "text": [
      "для проверки посчитаем традиционнно, P = 0.18461538461538463\n"
     ]
    }
   ],
   "source": [
    "print(f'для проверки посчитаем традиционнно, P = {(int(factorial(9) / (factorial(3) * factorial(9 - 3))))/(int(factorial(15) / (factorial(3) * factorial(15 - 3))))}')"
   ]
  },
  {
   "cell_type": "markdown",
   "id": "26077e08",
   "metadata": {},
   "source": [
    "**ОТВЕТ**\n",
    "\n",
    "вероятность того, что все извлеченные детали окрашены $\\approx 0.1846 \\approx 18.5\\%$"
   ]
  },
  {
   "cell_type": "markdown",
   "id": "8bada6ac",
   "metadata": {},
   "source": [
    "**Задача 4:**\n",
    "\n",
    "*В лотерее 100 билетов. Из них 2 выигрышных. Какова вероятность того, что 2 приобретенных билета окажутся выигрышными?*\n",
    "\n",
    "$\\displaystyle P(A)=\\frac{m}{n}$ где m-число благоприятных исходов, n-общее число всех исходов.  \n",
    "у нас будет  $\\displaystyle n=C^2_{100}$-т.е. всего вариантов купить 2 билета, а количество благоприятных исхтодов (выигр. 2 из 2-х) m=1.  \n",
    "n рассчитываем по формуле:\n",
    "$\\displaystyle C^k_n=\\frac{n!}{k!(n-k)!}$  "
   ]
  },
  {
   "cell_type": "code",
   "execution_count": 7,
   "id": "0079f74e",
   "metadata": {},
   "outputs": [
    {
     "name": "stdout",
     "output_type": "stream",
     "text": [
      "вариантов купить 2 из 100 равно 4950\n",
      "вероятность 0.00020202020202020202\n"
     ]
    }
   ],
   "source": [
    "n = int(factorial(100) / (factorial(2) * factorial(100 - 2))) \n",
    "print (f'вариантов купить 2 из 100 равно {n}')\n",
    "m = 1\n",
    "p = m/n\n",
    "print (f'вероятность {p}')\n"
   ]
  },
  {
   "cell_type": "markdown",
   "id": "bcd91873",
   "metadata": {},
   "source": []
  },
  {
   "cell_type": "code",
   "execution_count": null,
   "id": "8def60cb",
   "metadata": {},
   "outputs": [],
   "source": []
  }
 ],
 "metadata": {
  "kernelspec": {
   "display_name": "Python 3 (ipykernel)",
   "language": "python",
   "name": "python3"
  },
  "language_info": {
   "codemirror_mode": {
    "name": "ipython",
    "version": 3
   },
   "file_extension": ".py",
   "mimetype": "text/x-python",
   "name": "python",
   "nbconvert_exporter": "python",
   "pygments_lexer": "ipython3",
   "version": "3.9.13"
  }
 },
 "nbformat": 4,
 "nbformat_minor": 5
}
