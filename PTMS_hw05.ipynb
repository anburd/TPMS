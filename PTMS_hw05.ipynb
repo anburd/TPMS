{
 "cells": [
  {
   "cell_type": "markdown",
   "id": "convenient-crash",
   "metadata": {},
   "source": [
    "**Задача 1.**\n",
    "\n",
    "*Когда используется критерий Стьюдента, а когда Z –критерий?*\n",
    "\n",
    "**Ответ**\n",
    "\n",
    "Z-критерий используется при проверке гипотезы, когда известна дисперсия, если дисперсия не задана используется критерий Стьюдента (t-критерий). \n",
    "\n",
    "---\n"
   ]
  },
  {
   "cell_type": "markdown",
   "id": "approximate-essence",
   "metadata": {},
   "source": [
    "**Задача 2.**\n",
    "\n",
    "*Утверждается, что шарики для подшипников, изготовленные автоматическим станком, имеют средний диаметр 17 мм. Используя односторонний критерий с α=0,05 проверить эту гипотезу, если в выборке из n=100 шариков средний диаметр оказался равным 17.5 мм, а дисперсия известна и равна 4 кв.мм.*  "
   ]
  },
  {
   "cell_type": "markdown",
   "id": "structural-knight",
   "metadata": {},
   "source": [
    "Сформулируем нулевую гипотезу:  \n",
    "$H0: \\mu=\\mu_0=17$  \n",
    "Альтернативная гипотеза:  \n",
    "$H1: \\mu>\\mu_0$  \n",
    "Поскольку нам известны и среднее и дисперсия генеральной совокупности, то для проверки гипотезы будем использовать Z-критерий.  \n",
    "$z_н=\\frac{\\bar X-\\mu_0}{\\sigma/\\sqrt n}$, где  \n",
    "$\\bar X=\\mu=17.5$ среднее по выборке,  \n",
    "$\\sigma=\\sqrt 4=2$ среднее квадратическое отклонение генеральной совокупности,  \n",
    "$n=100$ размер выборки.  "
   ]
  },
  {
   "cell_type": "code",
   "execution_count": 1,
   "id": "opposite-biology",
   "metadata": {},
   "outputs": [
    {
     "name": "stdout",
     "output_type": "stream",
     "text": [
      "Наблюдаемое значение Z-критерия: 2.5\n"
     ]
    }
   ],
   "source": [
    "z=(17.5-17)/0.2\n",
    "print(f'Наблюдаемое значение Z-критерия: {z}')"
   ]
  },
  {
   "cell_type": "markdown",
   "id": "celtic-defensive",
   "metadata": {},
   "source": [
    "Найдем табличное значение Z-критерия, для α=0,05 \n",
    "\n",
    "Таблица из лекции\n",
    "Примерное табличное значение z-критерия:  1.645\n",
    "\n",
    "Либо через scipy.stats "
   ]
  },
  {
   "cell_type": "code",
   "execution_count": 2,
   "id": "distinguished-condition",
   "metadata": {},
   "outputs": [
    {
     "name": "stdout",
     "output_type": "stream",
     "text": [
      "Табличное значение z-критерия:  1.6449\n"
     ]
    }
   ],
   "source": [
    "import scipy.stats as stats\n",
    "zt=stats.norm.ppf(0.95)\n",
    "print(f'Табличное значение z-критерия: {zt: .4f}')"
   ]
  },
  {
   "cell_type": "markdown",
   "id": "relative-advantage",
   "metadata": {},
   "source": [
    "Сравним полученные значения и так как $z_н>z_t$, отвергаем нулевую гипотезу на уровне значимости α=0,05 \n",
    " "
   ]
  },
  {
   "cell_type": "markdown",
   "id": "hawaiian-prior",
   "metadata": {},
   "source": [
    "**Ответ:** \n",
    "\n",
    "Отвергаем нулевую гипотезу $H0: \\mu_0=17$ на уровне значимости $\\alpha=0.05$  \n",
    "\n",
    "Шарики имеют средний диаметр более 17 мм\n",
    "\n",
    "---"
   ]
  },
  {
   "cell_type": "markdown",
   "id": "proud-millennium",
   "metadata": {},
   "source": [
    "**Задача 3.**\n",
    "\n",
    "*Проведите тест гипотезы. Продавец утверждает, что средний вес пачки печенья составляет 200 г. Из партии извлечена выборка из 10 пачек. Вес каждой пачки составляет: 202, 203, 199, 197, 195, 201, 200, 204, 194, 190. Известно, что их веса распределены нормально. Верно ли утверждение продавца, если учитывать, что доверительная вероятность равна 99%? (Провести двусторонний тест.)*  "
   ]
  },
  {
   "cell_type": "markdown",
   "id": "computational-greensboro",
   "metadata": {},
   "source": [
    "Из условия задачи следует что нужно проводить проверку следующих гипотез:  \n",
    "$H0: \\mu=\\mu_0=200$, где $\\mu$ и $\\mu_0$ средние выборки и генеральной совокупности и выборки, соответственно.  \n",
    "Альтернативная гипотеза:  \n",
    "$H1: \\mu\\neq\\mu_0$  \n",
    "при этом будем использовать двусторонний критерий c уровнем значимости $\\alpha=1-0.99=0.01$  \n",
    "Поскольку нам не известны ни среднее, ни дисперсия генеральной совокупности, то для проверки гипотезы будем использовать $t$-критерий.    "
   ]
  },
  {
   "cell_type": "markdown",
   "id": "suburban-clone",
   "metadata": {},
   "source": [
    "Расчитаем наблюдаемое значение t-критерия $t_н$\n",
    "\n",
    "\n",
    "$t = \\dfrac{\\overline{X} - a}{\\sigma_X / \\sqrt{n}}$"
   ]
  },
  {
   "cell_type": "code",
   "execution_count": 3,
   "id": "convertible-arbor",
   "metadata": {},
   "outputs": [
    {
     "name": "stdout",
     "output_type": "stream",
     "text": [
      "Наблюдаемое значение t-критерия: -1.0651\n"
     ]
    }
   ],
   "source": [
    "import numpy as np\n",
    "cookies=np.array([202, 203, 199, 197, 195, 201, 200, 204, 194, 190])\n",
    "tn=(np.mean(cookies)-200)/(np.std(cookies,ddof=1)/len(cookies)**0.5)\n",
    "print(f'Наблюдаемое значение t-критерия: {tn: .4f}')"
   ]
  },
  {
   "cell_type": "markdown",
   "id": "backed-schedule",
   "metadata": {},
   "source": [
    "Найдем табличное значение $t$-критерия $t_t$, для $\\alpha/2=0.01/2=0.005$"
   ]
  },
  {
   "cell_type": "code",
   "execution_count": 4,
   "id": "broadband-fight",
   "metadata": {},
   "outputs": [
    {
     "name": "stdout",
     "output_type": "stream",
     "text": [
      "Табличное значение t-критерия:  3.2498\n"
     ]
    }
   ],
   "source": [
    "tt=stats.t.ppf(0.995,len(cookies)-1)\n",
    "print(f'Табличное значение t-критерия: {tt: .4f}')"
   ]
  },
  {
   "cell_type": "markdown",
   "id": "amino-craft",
   "metadata": {},
   "source": [
    "Сравним полученные значения (поскольку у нас двусторонний критерий, то используем абсолютное значение полученного t-критерия):"
   ]
  },
  {
   "cell_type": "markdown",
   "id": "legendary-circumstances",
   "metadata": {},
   "source": [
    "Поскольку $|t_н|<t_t$   (1.0651 < 3.2498), принимаем нулевую гипотезу на уровне значимости $\\alpha=0.01$"
   ]
  },
  {
   "cell_type": "markdown",
   "id": "baking-newsletter",
   "metadata": {},
   "source": [
    "**Ответ:**\n",
    "\n",
    "Принимаем нулевую гипотезу:  средний вес пачки печенья составляет 200 г. (на уровне значимости $\\alpha=0.01$ ) \n",
    "\n",
    "---"
   ]
  },
  {
   "cell_type": "markdown",
   "id": "dde0a699",
   "metadata": {},
   "source": [
    "**Задача 4.**\n",
    "\n",
    "*Есть ли статистически значимые различия в росте дочерей?\n",
    "Рост матерей 172, 177, 158, 170, 178,175, 164, 160, 169, 165\n",
    "Рост взрослых дочерей: 173, 175, 162, 174, 175, 168, 155, 170, 160, 163*"
   ]
  },
  {
   "cell_type": "code",
   "execution_count": 5,
   "id": "challenging-night",
   "metadata": {},
   "outputs": [
    {
     "data": {
      "text/plain": [
       "Ttest_relResult(statistic=0.6648478531431979, pvalue=0.5228168632983574)"
      ]
     },
     "execution_count": 5,
     "metadata": {},
     "output_type": "execute_result"
    }
   ],
   "source": [
    "mothers = [172, 177, 158, 170, 178, 175, 164, 160, 169, 165]\n",
    "daughters = [173, 175, 162, 174, 175, 168, 155, 170, 160, 163]\n",
    "\n",
    "stats.ttest_rel(mothers, daughters)"
   ]
  },
  {
   "cell_type": "markdown",
   "id": "82451f0d",
   "metadata": {},
   "source": [
    "Так как $p-value > \\alpha (0,05)$, принимаем нулевую гипотезу: статистически значимых различий нет.\n",
    "\n",
    "**Ответ:**\n",
    "\n",
    "Статистически значимых различий нет."
   ]
  },
  {
   "cell_type": "code",
   "execution_count": null,
   "id": "9a5b9634",
   "metadata": {},
   "outputs": [],
   "source": []
  }
 ],
 "metadata": {
  "kernelspec": {
   "display_name": "Python 3 (ipykernel)",
   "language": "python",
   "name": "python3"
  },
  "language_info": {
   "codemirror_mode": {
    "name": "ipython",
    "version": 3
   },
   "file_extension": ".py",
   "mimetype": "text/x-python",
   "name": "python",
   "nbconvert_exporter": "python",
   "pygments_lexer": "ipython3",
   "version": "3.9.13"
  }
 },
 "nbformat": 4,
 "nbformat_minor": 5
}
