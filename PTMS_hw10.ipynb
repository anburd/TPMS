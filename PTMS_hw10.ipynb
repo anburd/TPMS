{
 "cells": [
  {
   "cell_type": "markdown",
   "metadata": {
    "id": "ASzfwznmnBrV"
   },
   "source": [
    "**Задача 1.**\n",
    "*Провести дисперсионный анализ для определения того, есть ли различия среднего\n",
    "роста среди взрослых футболистов, хоккеистов и штангистов.\n",
    "Даны значения роста в трех группах случайно выбранных спортсменов:\n",
    "Футболисты: 173, 175, 180, 178, 177, 185, 183, 182.\n",
    "Хоккеисты: 177, 179, 180, 188, 177, 172, 171, 184, 180.\n",
    "Штангисты: 172, 173, 169, 177, 166, 180, 178, 177, 172, 166, 170.*"
   ]
  },
  {
   "cell_type": "code",
   "execution_count": 1,
   "metadata": {
    "id": "Q2cmWu_ImxRQ"
   },
   "outputs": [],
   "source": [
    "import numpy as np\n",
    "from scipy import stats"
   ]
  },
  {
   "cell_type": "code",
   "execution_count": 2,
   "metadata": {
    "id": "Ja20mEKmnDMh"
   },
   "outputs": [],
   "source": [
    "a=np.array([173, 175, 180, 178, 177, 185, 183, 182])\n",
    "b=np.array([177, 179, 180, 188, 177, 172, 171, 184, 180])\n",
    "c=np.array([172, 173, 169, 177, 166, 180, 178, 177, 172, 166, 170])"
   ]
  },
  {
   "cell_type": "code",
   "execution_count": 3,
   "metadata": {
    "id": "RPKETkDuwyCf"
   },
   "outputs": [],
   "source": [
    "alpha=0.05"
   ]
  },
  {
   "cell_type": "markdown",
   "metadata": {
    "id": "xVNTEffpw7Tx"
   },
   "source": [
    "Проверим данные на нормальность распределения"
   ]
  },
  {
   "cell_type": "code",
   "execution_count": 4,
   "metadata": {
    "colab": {
     "base_uri": "https://localhost:8080/"
    },
    "id": "140bBzufvjjZ",
    "outputId": "7dd85904-8c13-46d8-e269-20876481207c"
   },
   "outputs": [
    {
     "data": {
      "text/plain": [
       "ShapiroResult(statistic=0.9775082468986511, pvalue=0.9495404362678528)"
      ]
     },
     "execution_count": 4,
     "metadata": {},
     "output_type": "execute_result"
    }
   ],
   "source": [
    "stats.shapiro(a)"
   ]
  },
  {
   "cell_type": "code",
   "execution_count": 5,
   "metadata": {
    "colab": {
     "base_uri": "https://localhost:8080/"
    },
    "id": "N5SE2AzMwo9o",
    "outputId": "3c6667c1-8c2f-4bdc-df06-93327e38b0fe"
   },
   "outputs": [
    {
     "data": {
      "text/plain": [
       "ShapiroResult(statistic=0.9579196572303772, pvalue=0.7763139009475708)"
      ]
     },
     "execution_count": 5,
     "metadata": {},
     "output_type": "execute_result"
    }
   ],
   "source": [
    "stats.shapiro(b)"
   ]
  },
  {
   "cell_type": "code",
   "execution_count": 6,
   "metadata": {
    "colab": {
     "base_uri": "https://localhost:8080/"
    },
    "id": "VRBPatjhwrDH",
    "outputId": "f771096f-28a5-4766-898a-0787d2ff0749"
   },
   "outputs": [
    {
     "data": {
      "text/plain": [
       "ShapiroResult(statistic=0.9386808276176453, pvalue=0.5051165223121643)"
      ]
     },
     "execution_count": 6,
     "metadata": {},
     "output_type": "execute_result"
    }
   ],
   "source": [
    "stats.shapiro(c)"
   ]
  },
  {
   "cell_type": "markdown",
   "metadata": {
    "id": "0Mpgp6edxAP3"
   },
   "source": [
    "p-value для всех выборок больше alpha, значит принимаем гипотезу что данные распределены нормально.\n",
    "Проверим равенство дисперсий."
   ]
  },
  {
   "cell_type": "code",
   "execution_count": 7,
   "metadata": {
    "colab": {
     "base_uri": "https://localhost:8080/"
    },
    "id": "_b9pEWVOy40c",
    "outputId": "ba2f8ce5-2d6f-4348-be63-1301cf0804ba"
   },
   "outputs": [
    {
     "data": {
      "text/plain": [
       "BartlettResult(statistic=0.4640521043406442, pvalue=0.7929254656083131)"
      ]
     },
     "execution_count": 7,
     "metadata": {},
     "output_type": "execute_result"
    }
   ],
   "source": [
    "stats.bartlett(a,b,c)"
   ]
  },
  {
   "cell_type": "markdown",
   "metadata": {
    "id": "pUdZzPmbzYBY"
   },
   "source": [
    "p-value для каждой выборки больше alpha, значит принимаем что дисперсии равны. \n",
    "\n",
    "Теперь можем проводить однофакторный дисперсионный анализ."
   ]
  },
  {
   "cell_type": "markdown",
   "metadata": {
    "id": "hyQ_hz6Pqw_t"
   },
   "source": [
    "формулируем гипотезы:\n",
    "\n",
    "$H0: m_1=m_2=m_3$  - средний рост одинаков                                    \n",
    "$H1: m_1\\neq m_2 \\neq m_3$   - средний рост различен"
   ]
  },
  {
   "cell_type": "code",
   "execution_count": 8,
   "metadata": {
    "colab": {
     "base_uri": "https://localhost:8080/"
    },
    "id": "cLVbLLc5qgoO",
    "outputId": "e2abb67b-10ea-40d2-dbec-f0ce75d7d430"
   },
   "outputs": [
    {
     "data": {
      "text/plain": [
       "F_onewayResult(statistic=5.500053450812596, pvalue=0.010482206918698694)"
      ]
     },
     "execution_count": 8,
     "metadata": {},
     "output_type": "execute_result"
    }
   ],
   "source": [
    "stats.f_oneway(a, b, c)"
   ]
  },
  {
   "cell_type": "markdown",
   "metadata": {
    "id": "Td-1bjpjriOn"
   },
   "source": [
    "**Ответ**\n",
    "\n",
    "Получиленное значение pvalue=0.01048 меньше alpha=0.05 значит отвергаем нулевую гипотезу.\n",
    "Cредний рост футболистов, хоккеистов и штангистов различен."
   ]
  },
  {
   "cell_type": "code",
   "execution_count": null,
   "metadata": {},
   "outputs": [],
   "source": []
  }
 ],
 "metadata": {
  "colab": {
   "provenance": []
  },
  "kernelspec": {
   "display_name": "Python 3 (ipykernel)",
   "language": "python",
   "name": "python3"
  },
  "language_info": {
   "codemirror_mode": {
    "name": "ipython",
    "version": 3
   },
   "file_extension": ".py",
   "mimetype": "text/x-python",
   "name": "python",
   "nbconvert_exporter": "python",
   "pygments_lexer": "ipython3",
   "version": "3.9.13"
  }
 },
 "nbformat": 4,
 "nbformat_minor": 1
}
