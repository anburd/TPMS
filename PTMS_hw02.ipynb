{
 "cells": [
  {
   "cell_type": "markdown",
   "id": "professional-tuition",
   "metadata": {},
   "source": [
    "**Задача 1:**\n",
    "*Вероятность того, что стрелок попадет в мишень, выстрелив один раз, равна 0.8. Стрелок выстрелил 100 раз. Найдите вероятность того, что стрелок попадет в цель ровно 85 раз.*"
   ]
  },
  {
   "cell_type": "markdown",
   "id": "willing-martin",
   "metadata": {},
   "source": [
    "Используем формулу Бернулли: $\\displaystyle P_{n}(X=k)=C^k_{n}p^{k}q^{n-k}$,  \n",
    "где n=100, k=85, p=0.8, q=0.2 \n",
    "\n",
    "$P_{100}(X=85)=C^{85}_{100}\\cdot0.8^{85}\\cdot0.2^{15}=\\frac{100!}{85!(100-85)!}\\cdot0.8^{85}\\cdot0.2^{15}$   \n"
   ]
  },
  {
   "cell_type": "code",
   "execution_count": 1,
   "id": "controlling-following",
   "metadata": {},
   "outputs": [],
   "source": [
    "from math import factorial, exp\n",
    "def bernulli(n, k, p):\n",
    "    comb=factorial(n)/(factorial(k)*factorial(n-k))\n",
    "    return comb*(p**k)*(1-p)**(n-k)"
   ]
  },
  {
   "cell_type": "code",
   "execution_count": 2,
   "id": "cognitive-links",
   "metadata": {},
   "outputs": [
    {
     "name": "stdout",
     "output_type": "stream",
     "text": [
      "P =  0.0481\n"
     ]
    }
   ],
   "source": [
    "print(f'P = {bernulli(100,85,0.8): .4f}')"
   ]
  },
  {
   "cell_type": "markdown",
   "id": "surprised-yellow",
   "metadata": {},
   "source": [
    "**Ответ:**  \n",
    "Вероятность того, что стрелок попадет в цель ровно 85 раз: P=0.0481=4.81\\%\n",
    "\n",
    "---"
   ]
  },
  {
   "cell_type": "markdown",
   "id": "cleared-convenience",
   "metadata": {},
   "source": [
    "**Задача 2:** \n",
    "\n",
    "*Вероятность того, что лампочка перегорит в течение первого дня эксплуатации, равна 0.0004. В жилом комплексе после ремонта в один день включили 5000 новых лампочек.  \n",
    "a) Какова вероятность, что ни одна из них не перегорит в первый день?*\n",
    "\n",
    "*б) Какова вероятность, что перегорят ровно две?*"
   ]
  },
  {
   "cell_type": "markdown",
   "id": "better-apparatus",
   "metadata": {},
   "source": [
    "Поскольку в задаче вероятность наступления события мала, а количество испытаний велико, воспользуемся формулой Пуассона:  \n",
    "\n",
    "$\\displaystyle P_m=\\frac{\\lambda^m}{m!}\\cdot e^{-\\lambda}$\n",
    "\n",
    "напишем функцию:  "
   ]
  },
  {
   "cell_type": "code",
   "execution_count": 3,
   "id": "smooth-rwanda",
   "metadata": {},
   "outputs": [],
   "source": [
    "def puasson(m,p,n):\n",
    "    lamb=p*n\n",
    "    return exp(-lamb)*(lamb**m)/factorial(m)"
   ]
  },
  {
   "cell_type": "markdown",
   "id": "educated-picture",
   "metadata": {},
   "source": [
    "a) По условию задания:\n",
    "$\\displaystyle p=0.0004\\\\n=5000\\\\m=0$  \n",
    "тогда:"
   ]
  },
  {
   "cell_type": "code",
   "execution_count": 4,
   "id": "proof-lightning",
   "metadata": {},
   "outputs": [
    {
     "name": "stdout",
     "output_type": "stream",
     "text": [
      "P =  0.1353\n"
     ]
    }
   ],
   "source": [
    "print(f'P = {puasson(0,0.0004,5000): .4f}')"
   ]
  },
  {
   "cell_type": "markdown",
   "id": "organizational-bermuda",
   "metadata": {},
   "source": [
    "\n",
    "\n",
    "б) По условию задания:  \n",
    "$\\displaystyle p=0.0004\\\\n=5000\\\\m=2$  \n",
    "тогда:"
   ]
  },
  {
   "cell_type": "code",
   "execution_count": 6,
   "id": "devoted-christianity",
   "metadata": {},
   "outputs": [
    {
     "name": "stdout",
     "output_type": "stream",
     "text": [
      "P =  0.2707\n"
     ]
    }
   ],
   "source": [
    "print(f'P = {puasson(2,0.0004,5000): .4f}')"
   ]
  },
  {
   "cell_type": "markdown",
   "id": "gentle-compromise",
   "metadata": {},
   "source": [
    " **Ответ:**\n",
    " \n",
    "а)Вероятность того, что ни одна из ламп не перегорит в первый день $\\displaystyle P=0.1353=0.1353\\%$  \n",
    "\n",
    "\n",
    "\n",
    "б)Вероятность того, что 2 лампы перегорят в первый день $\\displaystyle P=0.2707=0.2707\\%$  "
   ]
  },
  {
   "cell_type": "markdown",
   "id": "vital-vulnerability",
   "metadata": {},
   "source": [
    "**Задача 3:**\n",
    "\n",
    "Монету подбросили 144 раза. Какова вероятность, что орел выпадет ровно 70 раз?**"
   ]
  },
  {
   "cell_type": "markdown",
   "id": "sudden-identification",
   "metadata": {},
   "source": [
    "По формуле Бернулли где  \n",
    "$n=144\\\\k=70\\\\p=0.5$  \n",
    "вычислим:  "
   ]
  },
  {
   "cell_type": "code",
   "execution_count": 7,
   "id": "hispanic-horse",
   "metadata": {},
   "outputs": [
    {
     "name": "stdout",
     "output_type": "stream",
     "text": [
      "P =  0.0628\n"
     ]
    }
   ],
   "source": [
    "print(f'P = {bernulli(144,70,0.5): .4f}')"
   ]
  },
  {
   "cell_type": "markdown",
   "id": "compatible-falls",
   "metadata": {},
   "source": [
    "**Ответ:**\n",
    "\n",
    "Вероятность того, что при 144-х кратном подбрасывании монетки орёл выпадет ровно 70 раз $\\displaystyle P=0.0628=0.0628\\%$  \n"
   ]
  },
  {
   "cell_type": "markdown",
   "id": "loaded-process",
   "metadata": {},
   "source": [
    "**Задача 4:**\n",
    "\n",
    "В первом ящике находится 10 мячей, из которых 7 - белые. Во втором ящике - 11 мячей, из которых 9 белых. Из каждого ящика вытаскивают случайным образом по два мяча. Какова вероятность того, что:  \n",
    "   *a) все мячи белые?;*  \n",
    "   *б) ровно два мяча белые?;*  \n",
    "   *в) хотя бы один мяч белый?.*"
   ]
  },
  {
   "cell_type": "markdown",
   "id": "compatible-cradle",
   "metadata": {},
   "source": [
    "Для решения данной задачи подсчитаем общее число элементарных исходов при вытаскивании мячей:  \n",
    "Для первой корзины это $n_1=C^2_{10}$    \n",
    "Для второй $n_2=C^2_{11}$  \n",
    "Напишем функцию, для подсчёта количества комбинаций:"
   ]
  },
  {
   "cell_type": "code",
   "execution_count": null,
   "id": "hired-cinema",
   "metadata": {},
   "outputs": [],
   "source": [
    "def combinations(n, k):\n",
    "    return int(factorial(n) / (factorial(k) * factorial(n - k)))"
   ]
  },
  {
   "cell_type": "markdown",
   "id": "accompanied-trouble",
   "metadata": {},
   "source": [
    "Вычислим $n_1$ и $n_2$:"
   ]
  },
  {
   "cell_type": "code",
   "execution_count": null,
   "id": "acting-internet",
   "metadata": {},
   "outputs": [],
   "source": [
    "n1=combinations(10,2)\n",
    "n2=combinations(11,2)\n",
    "print(f'Общее число элементарных исходов для первой корзины: n1 = {n1}\\n'\n",
    "f'Общее число элементарных исходов для второй корзины: n2 = {n2}')"
   ]
  },
  {
   "cell_type": "markdown",
   "id": "fewer-amateur",
   "metadata": {},
   "source": [
    "a) Для выполнения этого условия необходимо одновременное наступление двух событий:  \n",
    "событие $A$-из первой корзины извлекли 2 белых шара,  \n",
    "событие $B$-из второй корзины извлекли 2 белых шара.  \n",
    "Для события $A$ число благоприятных элементарных исходов $m_1=C^2_{7}$  \n",
    "Для события $B$ число благоприятных элементарных исходов $m_2=C^2_{9}$  \n",
    "Вычислим $m_1$ и $m_2$:"
   ]
  },
  {
   "cell_type": "code",
   "execution_count": null,
   "id": "contained-commander",
   "metadata": {},
   "outputs": [],
   "source": [
    "m1=combinations(7,2)\n",
    "m2=combinations(9,2)\n",
    "print(f'Число благоприятных элементарных исходов для события А: m1 = {combinations(7,2)}\\n'\n",
    "      f'Число благоприятных элементарных исходов для события В: m2 = {combinations(9,2)}'\n",
    "     )"
   ]
  },
  {
   "cell_type": "markdown",
   "id": "clinical-roulette",
   "metadata": {},
   "source": [
    "Для событий $A$ и $B$ вероятности их наступления будут расчитываться как $P(A)=\\frac{m_1}{n_1}$ и $P(B)=\\frac{m_2}{n_2}$, а вероятность их одновременного наступления как $P(A+B)=P(A)\\cdot P(B)$  \n",
    "Расчитаем:"
   ]
  },
  {
   "cell_type": "code",
   "execution_count": null,
   "id": "based-cooper",
   "metadata": {},
   "outputs": [],
   "source": [
    "print(f'Вероятность наступления события А, Р(А) = {m1/n1: .4f}\\n'\n",
    "      f'Вероятность наступления события В, Р(В) = {m2/n2: .4f}\\n'\n",
    "      f'Вероятность одновременного наступления событий А и В, Р(А+В) = {(m1/n1)*(m2/n2): .4f}'\n",
    "     )"
   ]
  },
  {
   "cell_type": "markdown",
   "id": "obvious-graph",
   "metadata": {},
   "source": [
    "---  \n",
    "#### Ответ:  \n",
    "Вероятность того, что все извлечённые мячи белые: $P\\approx0.3055\\approx30.55\\%$  \n",
    "\n",
    "---"
   ]
  },
  {
   "cell_type": "markdown",
   "id": "public-commander",
   "metadata": {},
   "source": [
    "б) Этому варианту соответствует несколько комбинаций:  \n",
    "   1. События $A$-из первой корзины извлекли 2 белых шара **и** $B$-из второй корзины извлекли 2 не белых шара, **или**  \n",
    "   2. События $C$-из первой корзины извлекли 1 белый и 1 не белый шар **и** $D$-из второй корзины извлекли 1 белый и 1 не белый шар, **или**  \n",
    "   3. События $E$-из первой корзины извлекли 2 не белых шара **и** $F$-из второй корзины извлекли 2 белых шара  \n",
    "   \n",
    "А вероятность того, что сложится **одна из** этих комбинаций, будет суммой вероятностей этих комбинаций. Т.е.:  \n",
    "$P=P(A)\\cdot P(B)+P(C)\\cdot P(D)+P(E)\\cdot P(F)$  \n",
    "Число **благоприятных** элементарных исходов для каждого события в комбинации:  \n",
    "   1. $m_A=C^2_{7}$, $m_B=C^0_{9}$;  \n",
    "   2. $m_C=C^1_{7}\\cdot C^1_3$, $m_D=C^1_{9}\\cdot C^1_2$;  \n",
    "   3. $m_E=C^0_{7}$, $m_F=C^2_{9}$.  \n",
    "\n",
    "$\\Rightarrow P=\\frac{m_A}{n1}\\cdot\\frac{m_B}{n2}+\\frac{m_C}{n1}\\cdot\\frac{m_D}{n2}+\\frac{m_E}{n1}\\cdot\\frac{m_F}{n2}=\\frac{C^2_{7}}{n1}\\cdot\\frac{C^0_{9}}{n2}+\\frac{C^1_{7}\\cdot C^1_3}{n1}\\cdot\\frac{C^1_{9}\\cdot C^1_2}{n2}+\\frac{C^0_{7}}{n1}\\cdot\\frac{C^2_{9}}{n2}$  \n",
    "Произведём вычисления:"
   ]
  },
  {
   "cell_type": "code",
   "execution_count": null,
   "id": "close-miracle",
   "metadata": {},
   "outputs": [],
   "source": [
    "m_A=combinations(7,2)\n",
    "m_B=combinations(2,2)\n",
    "m_C=combinations(7,1)*combinations(3,1)\n",
    "m_D=combinations(9,1)*combinations(2,1)\n",
    "m_E=combinations(3,2)\n",
    "m_F=combinations(9,2)\n",
    "print(f'Число благоприятных элементарных исходов для события А: m_A = {m_A}\\n'\n",
    "      f'Число благоприятных элементарных исходов для события B: m_B = {m_B}\\n'\n",
    "      f'Число благоприятных элементарных исходов для события C: m_C = {m_C}\\n'\n",
    "      f'Число благоприятных элементарных исходов для события D: m_D = {m_D}\\n'\n",
    "      f'Число благоприятных элементарных исходов для события E: m_E = {m_E}\\n'\n",
    "      f'Число благоприятных элементарных исходов для события F: m_F = {m_F}'  \n",
    "     )"
   ]
  },
  {
   "cell_type": "code",
   "execution_count": null,
   "id": "immediate-lunch",
   "metadata": {},
   "outputs": [],
   "source": [
    "P=(m_A/n1)*(m_B/n2)+(m_C/n1)*(m_D/n2)+(m_E/n1)*(m_F/n2)\n",
    "print(f'Вероятность того, что будут вытащены ровно 2 белых мяча Р = {P: .4f}')"
   ]
  },
  {
   "cell_type": "markdown",
   "id": "incomplete-approach",
   "metadata": {},
   "source": [
    "$* \\text{Вариант решения через условную вероятность:}\\\\P=\\frac{7}{10}\\cdot\\frac{6}{9}\\cdot\\frac{2}{11}\\cdot\\frac{1}{10}+4^*\\cdot\\left(\\frac{7}{10}\\cdot\\frac{3}{9}\\cdot\\frac{9}{11}\\cdot\\frac{2}{10}\\right)+\\frac{3}{10}\\cdot\\frac{2}{9}\\cdot\\frac{9}{11}\\cdot\\frac{8}{10}$  \n",
    "\\* *Второе слагаемое нужно умножить на **4**, поскольку существует 4 способа достать из каждой корзины 1 белый и 1 не белый мяч.*"
   ]
  },
  {
   "cell_type": "code",
   "execution_count": null,
   "id": "indonesian-phone",
   "metadata": {},
   "outputs": [],
   "source": [
    "P1=((7/10)*(6/9)*(2/11)*(1/10))+4*((7/10)*(3/9)*(9/11)*(2/10))+((3/10)*(2/9)*(9/11)*(8/10))\n",
    "print(f'Вероятность того, что будут вытащены ровно 2 белых мяча Р = {P1: .4f}')"
   ]
  },
  {
   "cell_type": "markdown",
   "id": "tested-glass",
   "metadata": {},
   "source": [
    "---  \n",
    "#### Ответ:  \n",
    "Вероятность того, что будут вытащены ровно 2 белых мяча: $P\\approx0.2048\\approx20.48\\%$  \n",
    "\n",
    "---"
   ]
  },
  {
   "cell_type": "markdown",
   "id": "otherwise-composite",
   "metadata": {},
   "source": [
    "в) В данном случае удобнее рассмотреть событие $\\bar A$-\"не было извлечено **ни одного** белого мяча\", которое наряду с искомым событием $A$-\"был извлечен хотя бы 1 белый мяч\", составляют **полную группу** событий, по скольку в результате испытаний может произойти **только** либо событие $A$, либо событие $\\bar A$, и поэтому:  \n",
    "$P(A)=1-P(\\bar A)$  \n",
    "Для наступления события $\\bar A$ необходимо чтобы из первой и второй корзин не было вынуто ни одного белого мяча, число таких благоприятных исходов для первой корзины $m_1=C^2_3$ а для второй $C^2_2$  \n",
    "Вычислим $m_1$ и $m_2$:"
   ]
  },
  {
   "cell_type": "code",
   "execution_count": null,
   "id": "municipal-characterization",
   "metadata": {},
   "outputs": [],
   "source": [
    "m1=combinations(3,2)\n",
    "m2=combinations(2,2)\n",
    "print(f'Число благоприятных элементарных исходов для первой корзины: m1 = {combinations(3,2)}\\n'\n",
    "      f'Число благоприятных элементарных исходов для второй корзины: m2 = {combinations(2,2)}'\n",
    "     )"
   ]
  },
  {
   "cell_type": "markdown",
   "id": "available-apple",
   "metadata": {},
   "source": [
    "Тогда $P(\\bar A)=\\frac{m1}{n1}\\cdot\\frac{m2}{n2}$, вычислим $P(\\bar A)$ и $P(A)$:"
   ]
  },
  {
   "cell_type": "code",
   "execution_count": null,
   "id": "experimental-quest",
   "metadata": {},
   "outputs": [],
   "source": [
    "print(f'Вероятность того, что не будет извлечено ни одного белого мяча Р(А_обр) = {(m1/n1)*(m2/n2): .4f}\\n'\n",
    "      f'Вероятность того, что будет извлечен хотя бы один белый мяч Р(А) = 1 - Р(А_обр) = {1-(m1/n1)*(m2/n2): .4f}'\n",
    "     )"
   ]
  },
  {
   "cell_type": "markdown",
   "id": "neither-binary",
   "metadata": {},
   "source": [
    "$* \\text{Вариант решения через условную вероятность:}\\\\P(A)=1-\\frac{3}{10}\\cdot\\frac{2}{9}\\cdot\\frac{2}{11}\\cdot\\frac{1}{10}$"
   ]
  },
  {
   "cell_type": "code",
   "execution_count": null,
   "id": "medium-outside",
   "metadata": {},
   "outputs": [],
   "source": [
    "P=1-(3/10)*(2/9)*(2/11)*(1/10)\n",
    "print(f'Вероятность того, что будет извлечен хотя бы один белый мяч Р(А) = {P: .4f}')"
   ]
  },
  {
   "cell_type": "markdown",
   "id": "foreign-musician",
   "metadata": {},
   "source": [
    "---  \n",
    "#### Ответ:  \n",
    "Вероятность того, что будет извлечен хотя бы один белый мяч $P(A)\\approx0.9988\\approx99.88\\%$  \n",
    "\n",
    "---"
   ]
  },
  {
   "cell_type": "code",
   "execution_count": null,
   "id": "short-woman",
   "metadata": {},
   "outputs": [],
   "source": []
  }
 ],
 "metadata": {
  "kernelspec": {
   "display_name": "Python 3 (ipykernel)",
   "language": "python",
   "name": "python3"
  },
  "language_info": {
   "codemirror_mode": {
    "name": "ipython",
    "version": 3
   },
   "file_extension": ".py",
   "mimetype": "text/x-python",
   "name": "python",
   "nbconvert_exporter": "python",
   "pygments_lexer": "ipython3",
   "version": "3.9.13"
  }
 },
 "nbformat": 4,
 "nbformat_minor": 5
}
