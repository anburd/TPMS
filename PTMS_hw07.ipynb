{
 "cells": [
  {
   "cell_type": "markdown",
   "metadata": {
    "id": "e1c6-tWPf4K9"
   },
   "source": [
    "**Задача 1.** \n",
    "*Даны две независимые выборки. Не соблюдается условие нормальности\n",
    "x1 380,420,290\n",
    "y1 140,360,200,900\n",
    "Сделайте вывод по результатам, полученным с помощью функции, имеются ли статистические различия между группами?*\n",
    "\n",
    "Формулируем гипотезу $Н_0$ как \"статистичесих различий нет\". Так как у нас 2 независимые выборки проверим гипотезу с помощью критерия Манна – Уитни, $\\alpha=0.05$"
   ]
  },
  {
   "cell_type": "code",
   "execution_count": 1,
   "metadata": {
    "id": "QKRpPOAnfjCf"
   },
   "outputs": [],
   "source": [
    "import numpy as np\n",
    "import scipy.stats as stats"
   ]
  },
  {
   "cell_type": "code",
   "execution_count": 2,
   "metadata": {
    "colab": {
     "base_uri": "https://localhost:8080/"
    },
    "id": "jthnEFiEf4qA",
    "outputId": "b09f265b-381b-41c7-f9d8-f450a93d8f6a"
   },
   "outputs": [
    {
     "data": {
      "text/plain": [
       "MannwhitneyuResult(statistic=8.0, pvalue=0.6285714285714286)"
      ]
     },
     "execution_count": 2,
     "metadata": {},
     "output_type": "execute_result"
    }
   ],
   "source": [
    "x=np.array([380,420,290])\n",
    "y=np.array([140,360,200,900])\n",
    "stats.mannwhitneyu(x, y)"
   ]
  },
  {
   "cell_type": "markdown",
   "metadata": {
    "id": "1E8eou6Jg3pE"
   },
   "source": [
    "**Ответ**\n",
    "\n",
    "$pvalue>\\alpha(0.05)$\n",
    "следовательно статистически значимых различий нет, гипотезу\n",
    "$Н_0$  не отвергаем\n",
    "\n",
    "---"
   ]
  },
  {
   "cell_type": "markdown",
   "metadata": {
    "id": "bMzocENwhl32"
   },
   "source": [
    "**Задача 2.** \n",
    "*сследовалось влияние препарата на уровень давления пациентов. Сначала\n",
    "измерялось давление до приема препарата, потом через 10 минут и через 30 минут. Есть\n",
    "ли статистически значимые различия между измерениями давления? В выборках не соблюдается условие нормальности*\n",
    "\n",
    "*1е измерение до приема препарата: 150, 160, 165, 145, 155\n",
    "\n",
    "*2е измерение через 10 минут: 140, 155, 150, 130, 135\n",
    "\n",
    "*3е измерение через 30 минут: 130, 130, 120, 130, 125*          \n",
    "\n",
    "Формулируем гипотезу $Н_0$ как \"статистичесих различий нет, препарат не влияет на давление\". Так как у нас 3е повторных измерений одной группы (зависимые выборки) проверим гипотезу с помощью критерия Фридмана, $\\alpha=0.05$\n"
   ]
  },
  {
   "cell_type": "code",
   "execution_count": 3,
   "metadata": {
    "colab": {
     "base_uri": "https://localhost:8080/"
    },
    "id": "75jKYN9KiCs2",
    "outputId": "0335bb96-2e59-487a-909a-7e3c3784ad0f"
   },
   "outputs": [
    {
     "data": {
      "text/plain": [
       "FriedmanchisquareResult(statistic=9.578947368421062, pvalue=0.00831683351100441)"
      ]
     },
     "execution_count": 3,
     "metadata": {},
     "output_type": "execute_result"
    }
   ],
   "source": [
    "x1=np.array([150, 160, 165, 145, 155])\n",
    "x2=np.array([140, 155, 150, 130, 135])\n",
    "x3=np.array([130, 130, 120, 130, 125])\n",
    "\n",
    "stats.friedmanchisquare(x1, x2, x3)"
   ]
  },
  {
   "cell_type": "markdown",
   "metadata": {
    "id": "WPEbRigJiabC"
   },
   "source": [
    "$pvalue<\\alpha(0.05)$\n",
    "статистически значимых различия есть\n",
    "$Н_0$ отвергаем, препарат влияет на давление"
   ]
  },
  {
   "cell_type": "markdown",
   "metadata": {
    "id": "YbjIhP0vjAY1"
   },
   "source": [
    "**Задача 3.** \n",
    "*Сравните 1 и 2 е измерения, предполагая, что 3го измерения через 30 минут не было.*\n",
    "\n",
    "Выборка стала парной - используем критерий Уилкоксона\n"
   ]
  },
  {
   "cell_type": "code",
   "execution_count": 4,
   "metadata": {
    "colab": {
     "base_uri": "https://localhost:8080/"
    },
    "id": "XpVQe1X3jJEj",
    "outputId": "6d2e080a-e6b3-44aa-f31d-6acc13ba0494"
   },
   "outputs": [
    {
     "data": {
      "text/plain": [
       "WilcoxonResult(statistic=0.0, pvalue=0.0625)"
      ]
     },
     "execution_count": 4,
     "metadata": {},
     "output_type": "execute_result"
    }
   ],
   "source": [
    "x1=np.array([150, 160, 165, 145, 155])\n",
    "x2=np.array([140, 155, 150, 130, 135])\n",
    "\n",
    "stats.wilcoxon(x1, x2)"
   ]
  },
  {
   "cell_type": "markdown",
   "metadata": {
    "id": "M7-sr1gmjjIQ"
   },
   "source": [
    "**Ответ:**\n",
    "\n",
    "Так как при таком измерении $pvalue>\\alpha(0.05)$ - статистически значимых различий нет, $Н_0$ не отвергаем, препарат не влияет на давление\n",
    "\n",
    "---"
   ]
  },
  {
   "cell_type": "markdown",
   "metadata": {
    "id": "w2am9hdAjxd4"
   },
   "source": [
    "**Задача 4.** \n",
    "*Даны 3 группы учеников плавания. Не соблюдается условие нормальности.\n",
    "В 1 группе время на дистанцию 50 м составляют:\n",
    "56, 60, 62, 55, 71, 67, 59, 58, 64, 67\n",
    "Вторая группа : 57, 58, 69, 48, 72, 70, 68, 71, 50, 53\n",
    "Третья группа: 57, 67, 49, 48, 47, 55, 66, 51, 54\n",
    "Есть ли статистически значимые различия между группами?*\n",
    "\n",
    "Формулируем гипотезу $Н_0$ как \"статистичесих различий нет\". Так как у нас 3 независимые выборки проверим гипотезу с помощью критерия Крускала –Уоллиса, $\\alpha=0.05$"
   ]
  },
  {
   "cell_type": "code",
   "execution_count": 8,
   "metadata": {
    "colab": {
     "base_uri": "https://localhost:8080/"
    },
    "id": "Wmrd7PwxkFxo",
    "outputId": "fbeec788-7be1-452e-b4e6-e0fd4211feed"
   },
   "outputs": [
    {
     "data": {
      "text/plain": [
       "KruskalResult(statistic=5.465564058257224, pvalue=0.0650380998590494)"
      ]
     },
     "execution_count": 8,
     "metadata": {},
     "output_type": "execute_result"
    }
   ],
   "source": [
    "x1=np.array([56, 60, 62, 55, 71, 67, 59, 58, 64, 67])\n",
    "x2=np.array([57, 58, 69, 48, 72, 70, 68, 71, 50, 53])\n",
    "x3=np.array([57, 67, 49, 48, 47, 55, 66, 51, 54])\n",
    "\n",
    "stats.kruskal(x1,x2,x3)"
   ]
  },
  {
   "cell_type": "markdown",
   "metadata": {
    "id": "_3p7uJsMknaJ"
   },
   "source": [
    "**Ответ:**\n",
    "\n",
    "так как $pvalue>\\alpha(0.05)$ - статистически значимых различий нет, \n",
    "$Н_0$ не отвергаем\n",
    "\n",
    "---"
   ]
  },
  {
   "cell_type": "markdown",
   "metadata": {
    "id": "9Ri6-Vb7k73b"
   },
   "source": [
    "**Задача 5.** \n",
    "*Заявляется, что партия изготавливается со средним арифметическим 2,5 см. Проверить\n",
    "данную гипотезу, если известно, что размеры изделий подчинены нормальному закону\n",
    "распределения. Объем выборки 10, уровень статистической значимости 5%\n",
    "2.51, 2.35, 2.74, 2.56, 2.40, 2.36, 2.65, 2.7, 2.67, 2.34*"
   ]
  },
  {
   "cell_type": "markdown",
   "metadata": {
    "id": "3e_KF7ZumzuS"
   },
   "source": [
    "Соствим гипотезы\n",
    "\n",
    "$Н_0$ :  среднее арифметическое партии равно 2,5 см или  $\\mu= 2,5$\n",
    "\n",
    "$Н_1$ :  $\\mu \\neq 2.5$"
   ]
  },
  {
   "cell_type": "markdown",
   "metadata": {
    "id": "UyaUUPPjnU40"
   },
   "source": [
    "расчитаем наблюдаемое значение tn по формуле\n",
    "\n",
    "$$t = \\dfrac{\\overline{X} - a}{\\sigma_X / \\sqrt{n}}$$"
   ]
  },
  {
   "cell_type": "code",
   "execution_count": 6,
   "metadata": {
    "colab": {
     "base_uri": "https://localhost:8080/"
    },
    "id": "AKmzN7IMn4sI",
    "outputId": "6af25803-d75b-4854-9a0b-4d859210a098"
   },
   "outputs": [
    {
     "data": {
      "text/plain": [
       "0.5630613661802959"
      ]
     },
     "execution_count": 6,
     "metadata": {},
     "output_type": "execute_result"
    }
   ],
   "source": [
    "s = np.array([2.51, 2.35, 2.74, 2.56, 2.40, 2.36, 2.65, 2.7, 2.67, 2.34])\n",
    "\n",
    "n = 10\n",
    "\n",
    "mean = s.mean()\n",
    "std = s.std(ddof=1)\n",
    "\n",
    "tn = (mean-2.5)/(std/np.sqrt(n))\n",
    "tn"
   ]
  },
  {
   "cell_type": "markdown",
   "metadata": {
    "id": "KJwZ6iiEoNk5"
   },
   "source": [
    "Доверительная вероятность $= 0.95$, число степеней свободы = $n - 1 = 9$\n",
    "находим критерий Стьюдента табличный tt: "
   ]
  },
  {
   "cell_type": "code",
   "execution_count": 7,
   "metadata": {},
   "outputs": [
    {
     "data": {
      "text/plain": [
       "1.8331129326536335"
      ]
     },
     "execution_count": 7,
     "metadata": {},
     "output_type": "execute_result"
    }
   ],
   "source": [
    "tt=stats.t.ppf(0.95,9)\n",
    "tt"
   ]
  },
  {
   "cell_type": "markdown",
   "metadata": {
    "id": "uX0XmFFqoYOP"
   },
   "source": [
    "**Ответ**\n",
    "\n",
    "Так как табличное значение больше наблюдаемого tt > tn ( 1.833 > 0.56), то гипотеза верна и партия изготавливается со средним арифметическим 2,5 см.."
   ]
  },
  {
   "cell_type": "code",
   "execution_count": null,
   "metadata": {},
   "outputs": [],
   "source": []
  }
 ],
 "metadata": {
  "colab": {
   "provenance": []
  },
  "kernelspec": {
   "display_name": "Python 3 (ipykernel)",
   "language": "python",
   "name": "python3"
  },
  "language_info": {
   "codemirror_mode": {
    "name": "ipython",
    "version": 3
   },
   "file_extension": ".py",
   "mimetype": "text/x-python",
   "name": "python",
   "nbconvert_exporter": "python",
   "pygments_lexer": "ipython3",
   "version": "3.9.13"
  }
 },
 "nbformat": 4,
 "nbformat_minor": 1
}
