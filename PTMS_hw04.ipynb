{
 "cells": [
  {
   "cell_type": "markdown",
   "id": "lesbian-matter",
   "metadata": {},
   "source": [
    "**Задача 1.**\n",
    "\n",
    "*Случайная непрерывная величина A имеет равномерное распределение на промежутке (200, 800]. Найдите ее среднее значение и дисперсию.*\n",
    "\n",
    "Используем формулы для случайной непрерывной величины $X$, равномерно распределённой на отрезке $[a;b]$:  \n",
    "$\\displaystyle\\text M(X)=\\frac{a+b}{2}\\\\\\displaystyle\\text {Дисперсия: }D(X)=\\frac{(b-a)^2}{12}$\n",
    ":  "
   ]
  },
  {
   "cell_type": "code",
   "execution_count": 1,
   "id": "pointed-species",
   "metadata": {},
   "outputs": [
    {
     "name": "stdout",
     "output_type": "stream",
     "text": [
      "500.0 30000.0\n"
     ]
    }
   ],
   "source": [
    "МА = (200+800)/2\n",
    "DA = ((800-200)**2)/12\n",
    "print(МА,DA)"
   ]
  },
  {
   "cell_type": "markdown",
   "id": "protected-source",
   "metadata": {},
   "source": [
    "**Ответ:**\n",
    "\n",
    "Среднее значение: М(А) =  500.00 \n",
    "\n",
    "Дисперсия: D(A) =  30000.00\n",
    "\n",
    "---  \n"
   ]
  },
  {
   "cell_type": "markdown",
   "id": "alternative-property",
   "metadata": {},
   "source": [
    "**Задача 2.**\n",
    "\n",
    "*О случайной непрерывной равномерно распределенной величине B известно, что ее дисперсия равна 0.2. Можно ли найти правую границу величины B и ее среднее значение зная, что левая граница равна 0.5? Если да, найдите ее.*"
   ]
  },
  {
   "cell_type": "markdown",
   "id": "sought-apple",
   "metadata": {},
   "source": [
    "из формулы:  \n",
    "$\\displaystyle D(B)=\\frac{(b-a)^2}{12}$  \n",
    "мы имеем значения D(B)=0.2 и a=0.5\n",
    "\n",
    "Найдем правую границу b величины B из уравнения  \n",
    "$\\displaystyle \\frac{(b-0.5)^2}{12}=0.2\\\\b-0.5=\\sqrt{2.4}\\\\b=0.5+\\sqrt{2.4}$  \n",
    "\n",
    "потом найдем среднее значение по формуле:  \n",
    "$\\displaystyle M(B)=\\frac{a+b}{2}$"
   ]
  },
  {
   "cell_type": "code",
   "execution_count": 2,
   "id": "exclusive-settlement",
   "metadata": {},
   "outputs": [
    {
     "name": "stdout",
     "output_type": "stream",
     "text": [
      "2.049193338482967 1.2745966692414834\n"
     ]
    }
   ],
   "source": [
    "b=0.5+2.4**(1/2)\n",
    "MB =(b+0.5)/2\n",
    "print(b, MB)"
   ]
  },
  {
   "cell_type": "markdown",
   "id": "structured-genesis",
   "metadata": {},
   "source": [
    "**Ответ:**\n",
    "\n",
    "Левая граница распределения: $b=2.049$  \n",
    "Среднее значение: $M(B)=1.275$  \n",
    "\n",
    "---"
   ]
  },
  {
   "cell_type": "markdown",
   "id": "hidden-rental",
   "metadata": {},
   "source": [
    "**Задача 3.**\n",
    "\n",
    "*Непрерывная случайная величина X распределена нормально и задана плотностью распределения $\\displaystyle f(x)=\\frac{1}{4\\cdot\\sqrt{2\\pi}}\\cdot e^{-\\frac{(x+2)^2}{32}}$, Найдите:*  \n",
    "\n",
    "*а) M(X)*  \n",
    "*б) D(X)*  \n",
    "*в) std(X)(среднее квадратичное отклонение)*"
   ]
  },
  {
   "cell_type": "markdown",
   "id": "loved-thinking",
   "metadata": {},
   "source": [
    "Так как общая формула плотности нормального распределения выглядит как:  \n",
    "$\\displaystyle f(x)=\\frac{1}{\\sigma\\sqrt{2\\pi}}\\cdot e^{-\\frac{(x-a)^2}{2\\sigma^2}}$  \n",
    "\n",
    "то из нее применительно к заданной получаем:\n",
    "\n",
    "$M(X)=a=-2\\\\D(X)=\\sigma^2=16\\\\std(X)=\\sigma = 4$"
   ]
  },
  {
   "cell_type": "markdown",
   "id": "dimensional-ribbon",
   "metadata": {},
   "source": [
    "**Ответ:**\n",
    "\n",
    "$M(X)=-2\\\\D(X)=16\\\\std(X)=4$  \n",
    "\n",
    "---"
   ]
  },
  {
   "cell_type": "markdown",
   "id": "accompanied-blogger",
   "metadata": {},
   "source": [
    "**Задача 4.**\n",
    "\n",
    "*Рост взрослого населения города X имеет нормальное распределение. Причем, средний рост равен 174 см, а среднее квадратичное отклонение равно 8 см. Какова вероятность того, что случайным образом выбранный взрослый человек имеет рост:*  \n",
    "*а) больше 182 см*  \n",
    "*б) больше 190 см*  \n",
    "*в) от 166 см до 190 см*  \n",
    "*г) от 166 см до 182 см*  \n",
    "*д) от 158 см до 190 см*  \n",
    "*е) не выше 150 см или не ниже 190 см*  \n",
    "*ё) не выше 150 см или не ниже 198 см*  \n",
    "*ж) ниже 166 см.*  "
   ]
  },
  {
   "cell_type": "markdown",
   "id": "academic-importance",
   "metadata": {},
   "source": [
    "проведем рассчеты через модуль  stats.scipy:"
   ]
  },
  {
   "cell_type": "code",
   "execution_count": 4,
   "id": "70f24fc9",
   "metadata": {},
   "outputs": [],
   "source": [
    "from scipy import stats"
   ]
  },
  {
   "cell_type": "markdown",
   "id": "1ed9edc6",
   "metadata": {},
   "source": [
    "а) вероятность роста больше 182 см "
   ]
  },
  {
   "cell_type": "code",
   "execution_count": 5,
   "id": "b0b488f9",
   "metadata": {},
   "outputs": [
    {
     "data": {
      "text/plain": [
       "0.15865525393145707"
      ]
     },
     "execution_count": 5,
     "metadata": {},
     "output_type": "execute_result"
    }
   ],
   "source": [
    "1 - stats.norm.cdf(182, loc=174, scale=8)"
   ]
  },
  {
   "cell_type": "markdown",
   "id": "wound-grenada",
   "metadata": {},
   "source": [
    "$P(X\\ge182)=0.1587$\n",
    "\n",
    "б) вероятность роста больше 190 см "
   ]
  },
  {
   "cell_type": "code",
   "execution_count": 6,
   "id": "5bb465f5",
   "metadata": {},
   "outputs": [
    {
     "data": {
      "text/plain": [
       "0.02275013194817921"
      ]
     },
     "execution_count": 6,
     "metadata": {},
     "output_type": "execute_result"
    }
   ],
   "source": [
    "1 - stats.norm.cdf(190, loc=174, scale=8)"
   ]
  },
  {
   "cell_type": "markdown",
   "id": "direct-perspective",
   "metadata": {},
   "source": [
    "$P(X\\ge190)=0.2275$"
   ]
  },
  {
   "cell_type": "markdown",
   "id": "international-wheel",
   "metadata": {},
   "source": [
    "в) вероятность роста от 166 см до 190 см"
   ]
  },
  {
   "cell_type": "code",
   "execution_count": 7,
   "id": "5ea31a5e",
   "metadata": {},
   "outputs": [
    {
     "data": {
      "text/plain": [
       "0.8185946141203637"
      ]
     },
     "execution_count": 7,
     "metadata": {},
     "output_type": "execute_result"
    }
   ],
   "source": [
    "(stats.norm.cdf(190, loc=174, scale=8))-(stats.norm.cdf(166, loc=174, scale=8))"
   ]
  },
  {
   "cell_type": "markdown",
   "id": "heated-mount",
   "metadata": {},
   "source": [
    "$P(166\\le X\\le 190)=0.8186$  "
   ]
  },
  {
   "cell_type": "markdown",
   "id": "diverse-sherman",
   "metadata": {},
   "source": [
    "г) вероятность роста от 166 см до 182 см"
   ]
  },
  {
   "cell_type": "code",
   "execution_count": 8,
   "id": "45444cd7",
   "metadata": {},
   "outputs": [
    {
     "data": {
      "text/plain": [
       "0.6826894921370859"
      ]
     },
     "execution_count": 8,
     "metadata": {},
     "output_type": "execute_result"
    }
   ],
   "source": [
    "(stats.norm.cdf(182, loc=174, scale=8))-(stats.norm.cdf(166, loc=174, scale=8))"
   ]
  },
  {
   "cell_type": "markdown",
   "id": "intimate-obligation",
   "metadata": {},
   "source": [
    "$P(166\\le X\\le 182)=0.6827$  "
   ]
  },
  {
   "cell_type": "markdown",
   "id": "criminal-setting",
   "metadata": {},
   "source": [
    "д) вероятность роста от 158 см до 190 см"
   ]
  },
  {
   "cell_type": "code",
   "execution_count": 9,
   "id": "b5c652e3",
   "metadata": {},
   "outputs": [
    {
     "data": {
      "text/plain": [
       "0.9544997361036416"
      ]
     },
     "execution_count": 9,
     "metadata": {},
     "output_type": "execute_result"
    }
   ],
   "source": [
    "(stats.norm.cdf(190, loc=174, scale=8))-(stats.norm.cdf(158, loc=174, scale=8))"
   ]
  },
  {
   "cell_type": "markdown",
   "id": "systematic-corpus",
   "metadata": {},
   "source": [
    "$P(158\\le X\\le 190)=0.9545$  "
   ]
  },
  {
   "cell_type": "markdown",
   "id": "wanted-viking",
   "metadata": {},
   "source": [
    "е) вероятность роста не выше 150 см или не ниже 190 см"
   ]
  },
  {
   "cell_type": "code",
   "execution_count": 10,
   "id": "7754b5df",
   "metadata": {},
   "outputs": [
    {
     "data": {
      "text/plain": [
       "0.0241000299798093"
      ]
     },
     "execution_count": 10,
     "metadata": {},
     "output_type": "execute_result"
    }
   ],
   "source": [
    "(stats.norm.cdf(150, loc=174, scale=8))+(1 - stats.norm.cdf(190, loc=174, scale=8))"
   ]
  },
  {
   "cell_type": "markdown",
   "id": "amazing-contract",
   "metadata": {},
   "source": [
    "$P(X\\le150\\cup X\\ge 190)=0.0241$  "
   ]
  },
  {
   "cell_type": "markdown",
   "id": "mechanical-moscow",
   "metadata": {},
   "source": [
    "ё) вероятность роста не выше 150 см или не ниже 198 см"
   ]
  },
  {
   "cell_type": "code",
   "execution_count": 11,
   "id": "a0b2f9d0",
   "metadata": {},
   "outputs": [
    {
     "data": {
      "text/plain": [
       "0.0026997960632601965"
      ]
     },
     "execution_count": 11,
     "metadata": {},
     "output_type": "execute_result"
    }
   ],
   "source": [
    "(stats.norm.cdf(150, loc=174, scale=8))+(1 - stats.norm.cdf(198, loc=174, scale=8))"
   ]
  },
  {
   "cell_type": "markdown",
   "id": "6f18498a",
   "metadata": {},
   "source": [
    "$P(X\\le150\\cup X\\ge 198)=0.0027$  "
   ]
  },
  {
   "cell_type": "markdown",
   "id": "assigned-chest",
   "metadata": {},
   "source": [
    "ж) вероятность роста ниже 166 см:"
   ]
  },
  {
   "cell_type": "code",
   "execution_count": 12,
   "id": "c875f79a",
   "metadata": {},
   "outputs": [
    {
     "data": {
      "text/plain": [
       "0.15865525393145707"
      ]
     },
     "execution_count": 12,
     "metadata": {},
     "output_type": "execute_result"
    }
   ],
   "source": [
    "(stats.norm.cdf(166, loc=174, scale=8))"
   ]
  },
  {
   "cell_type": "markdown",
   "id": "wound-discount",
   "metadata": {},
   "source": [
    "$P(X\\le166)=0.1587$  \n",
    "\n",
    "---"
   ]
  },
  {
   "cell_type": "markdown",
   "id": "positive-speaker",
   "metadata": {},
   "source": [
    "**Ответ:**\n",
    "\n",
    "а) вероятность роста больше 182 см = 0.1587;  \n",
    "б) вероятность роста больше 190 см = 0.02275;  \n",
    "в) вероятность роста от 166 см до 190 см = 0.8186;  \n",
    "г) вероятность роста от 166 см до 182 см = 0.6827;  \n",
    "д) вероятность роста от 158 см до 190 см = 0.9545;  \n",
    "е) вероятность роста не выше 150 см или не ниже 190 см = 0.0241;  \n",
    "ё) вероятность роста не выше 150 см или не ниже 198 см = 0.0027;  \n",
    "ж) вероятность роста ниже 166 см = 0.1587;  \n",
    "\n",
    "---"
   ]
  },
  {
   "cell_type": "markdown",
   "id": "solid-turtle",
   "metadata": {},
   "source": [
    "**Задача 5.**\n",
    "\n",
    "*На сколько сигм (средних квадратичных отклонений) отклоняется рост человека, равный 190 см, от математического ожидания роста в популяции, в которой M(X) = 178 см и D(X) = 25 кв.см?*  "
   ]
  },
  {
   "cell_type": "markdown",
   "id": "mighty-flexibility",
   "metadata": {},
   "source": [
    "Воспользуемся формулой расчета $Z$-оценки:  \n",
    "$\\displaystyle Z=\\frac{X-\\bar x}{\\sigma}=\\frac{190-178}{\\sqrt{25}}=\\frac{12}{5}$    "
   ]
  },
  {
   "cell_type": "code",
   "execution_count": 13,
   "id": "sporting-control",
   "metadata": {},
   "outputs": [
    {
     "data": {
      "text/plain": [
       "2.4"
      ]
     },
     "execution_count": 13,
     "metadata": {},
     "output_type": "execute_result"
    }
   ],
   "source": [
    "Z=(190-178)/25**(1/2)\n",
    "Z"
   ]
  },
  {
   "cell_type": "markdown",
   "id": "sorted-omaha",
   "metadata": {},
   "source": [
    "**Ответ:**\n",
    "\n",
    "на $2.4$ сигмы  \n",
    "\n",
    "---"
   ]
  }
 ],
 "metadata": {
  "kernelspec": {
   "display_name": "Python 3 (ipykernel)",
   "language": "python",
   "name": "python3"
  },
  "language_info": {
   "codemirror_mode": {
    "name": "ipython",
    "version": 3
   },
   "file_extension": ".py",
   "mimetype": "text/x-python",
   "name": "python",
   "nbconvert_exporter": "python",
   "pygments_lexer": "ipython3",
   "version": "3.9.13"
  }
 },
 "nbformat": 4,
 "nbformat_minor": 5
}
